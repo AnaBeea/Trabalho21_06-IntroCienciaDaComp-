{
  "nbformat": 4,
  "nbformat_minor": 0,
  "metadata": {
    "colab": {
      "provenance": [],
      "toc_visible": true
    },
    "kernelspec": {
      "name": "python3",
      "display_name": "Python 3"
    },
    "language_info": {
      "name": "python"
    }
  },
  "cells": [
    {
      "cell_type": "markdown",
      "source": [
        "Universidade do Vale do Itajaí<br>\n",
        "Escola do Mar, Ciência e Tecnologia<br>\n",
        "Professor Felipe Viel\n",
        "\n",
        "# Exemplo Morfologia\n",
        "\n",
        "### Tutoriais da OpenCV\n",
        "\n",
        "- https://docs.opencv.org/master/d9/df8/tutorial_root.html\n",
        "- https://www.geeksforgeeks.org/opencv-python-tutorial/"
      ],
      "metadata": {
        "id": "hs7F3RjrUjCH"
      }
    },
    {
      "cell_type": "code",
      "execution_count": null,
      "metadata": {
        "id": "9ieiSWN_Uh5b"
      },
      "outputs": [],
      "source": [
        "#from https://opencv-python-tutroals.readthedocs.io/en/latest/py_tutorials/py_imgproc/py_morphological_ops/py_morphological_ops.html\n",
        "import cv2\n",
        "import numpy as np\n",
        "#caso for usar o Google Colab com a OpenCV, usar a lib abaixo\n",
        "from google.colab.patches import cv2_imshow\n"
      ]
    },
    {
      "cell_type": "code",
      "source": [
        "img = cv2.imread('j.png',0)  #lê a imagem(j.png) em escala de cinza e armazena na variavel \"img\"\n",
        "img_opening = cv2.imread('j_ruido.png',0) #lê a imagem (j_ruido.png) em escala de cinza e armazena na variável \"img_opening\"\n",
        "img_closing = cv2.imread('j_furos.png',0) #lê a imagem (j_furos.png) em escala de cinza e armazena na variável \"img_closing\"\n",
        "altura, largura = img.shape #obtém a altura e largura da imagem \"img\" e as armazena nas variáveis \"altura\" e \"largura\"\n",
        "kernel = np.ones((5,5),np.uint8) #cria um kernel de tamanho 5x5 preenchido com 1s e com o tipo de dados definido como uint8\n",
        "print(kernel) #imprime o conteúdo do kernel"
      ],
      "metadata": {
        "id": "8whvZbKhU03S"
      },
      "execution_count": null,
      "outputs": []
    },
    {
      "cell_type": "code",
      "source": [
        "erosion = cv2.erode(img,kernel,iterations = 2) #aplica a operação de erosão (desgasta as bordas dos objetos na imagem) na \"img\" usando o kernel definido\n",
        "dilation = cv2.dilate(img,kernel,iterations = 2) #aplica a operação de dilatação (expande as áreas brancas na imagem) na \"img\" usando o kernel definido"
      ],
      "metadata": {
        "id": "RnKcRcjsU8VP"
      },
      "execution_count": null,
      "outputs": []
    },
    {
      "cell_type": "code",
      "source": [
        "gradient = cv2.morphologyEx(img, cv2.MORPH_GRADIENT, kernel) #aplica a operação de gradiente(calculado subtraindo a imagem erodida da imagem dilatada usando o kernel fornecido. Destaca as bordas da imagem) morfológico na \"img\"\n",
        "opening = cv2.morphologyEx(img_opening, cv2.MORPH_OPEN, kernel) #aplica a operação de abertura morfológica(combinação de erosão seguida de dilatação, usada para remover ruídos e pequenos detalhes indesejados na imagem) na \"img_opening\"\n",
        "closing = cv2.morphologyEx(img_closing, cv2.MORPH_CLOSE, kernel) #aplica a operação de fechamento morfológico(combinação de dilatação seguida de erosão, usada para preencher pequenos buracos e fechar pequenas aberturas na imagem) na \"img_closing\""
      ],
      "metadata": {
        "id": "WvTtlQWJU-tz"
      },
      "execution_count": null,
      "outputs": []
    },
    {
      "cell_type": "code",
      "source": [
        "'''\n",
        "#Caso usa com Python no próprio computador\n",
        "cv2.imshow('in', img)\n",
        "cv2.imshow('erosion_out', erosion)\n",
        "cv2.imshow('dilation_out', dilation)\n",
        "cv2.imshow('opening_out', opening)\n",
        "cv2.imshow('closing_out', closing)\n",
        "cv2.imshow('gradient_out', gradient)\n",
        "'''\n",
        "#Caso use o Google Colab\n",
        "cv2_imshow(img) #exibe a imagem \"img\" usando a função cv2_imshow()\n",
        "cv2_imshow(erosion) #exibe a imagem \"erosion\" usando a função cv2_imshow()\n",
        "cv2_imshow(dilation) #exibe a imagem \"dilation\" usando a função cv2_imshow()\n",
        "cv2_imshow(opening) #exibe a imagem \"opening\" usando a função cv2_imshow()\n",
        "cv2_imshow(closing) #exibe a imagem \"closing\" usando a função cv2_imshow()\n",
        "cv2_imshow(gradient) #exibe a imagem \"gradient\" usando a função cv2_imshow()"
      ],
      "metadata": {
        "id": "iMJ7o6EgVA_r"
      },
      "execution_count": null,
      "outputs": []
    }
  ]
}